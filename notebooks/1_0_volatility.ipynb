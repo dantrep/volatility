{
 "cells": [
  {
   "cell_type": "markdown",
   "metadata": {},
   "source": [
    "# Emerging Technology\n",
    "\n",
    "## Machine Learning for Humans\n",
    "### October 18, 2019\n",
    "\n",
    "<div>\n",
    "<img src=\"./img/forecasting.png\" width=\"500\"/>\n",
    "</div>"
   ]
  },
  {
   "cell_type": "markdown",
   "metadata": {},
   "source": [
    "# Goal\n",
    "\n",
    "We're going to learn principles behind data science by building a simple simple machine learning model to trade the **SPY** using a simple set of features.  The key steps will be:\n",
    "\n",
    "1. Define the Problem\n",
    "2. Gather Data\n",
    "3. Analysis\n",
    " - Feature Engineering\n",
    "4. Model\n",
    " - Generate a Model\n",
    " - Evaluate the Model\n",
    "5. Repeat!"
   ]
  },
  {
   "cell_type": "markdown",
   "metadata": {},
   "source": [
    "# Exploratory Data Analysis\n",
    "\n",
    "![Exploratory Data Analysis](./img/0_overall.png)\n",
    "\n",
    "You should have multiple tools in your \"toolbox\".  To do Data Science / Analysis you need tools to get the job done.  Depending on the task, here's a few tools to consider:\n",
    "\n",
    "### Storing Data\n",
    "- csv files, JSON, Relational DB, Streaming DB\n",
    "\n",
    "### Visualization\n",
    "- matplotlib, pandas, seaborn, plotly, bokeh -- all good options\n",
    "\n",
    "### Analysis\n",
    "- statsmodel, scipy, numpy, pandas, sklearn, tensorflow, keras\n",
    "\n",
    "### Model\n",
    "- Time Series Analysis, Regression, Classification, RNNs, RL"
   ]
  },
  {
   "cell_type": "markdown",
   "metadata": {},
   "source": [
    "# Problem Definition\n",
    "\n",
    "![Exploratory Data Analysis](./img/1_problem.png)"
   ]
  },
  {
   "cell_type": "markdown",
   "metadata": {},
   "source": [
    "# The Goal\n",
    "\n",
    "To develop a trading strategy for the SPY that will allow us to evaluate a daily forecast of returns and choose to be either long or short SPY depending on the forecast.\n",
    "\n",
    "### Goal Post\n",
    "\n",
    "A winning strategy will have:\n",
    "\n",
    "- stable in / out of sample peformance; and  \n",
    "- outperform the SPY buy-and-hold strategy.\n",
    "\n",
    "\n",
    "### Tools\n",
    "\n",
    "We will use a python environment within a Jupyter notebook to do this analysis.  You can replicate the same analysis for yourself with [Google colab](https://colab.research.google.com/notebooks/welcome.ipynb).  Python offers a wonderful open-source ecosystem of modules that can help us build our strategy."
   ]
  },
  {
   "cell_type": "markdown",
   "metadata": {},
   "source": [
    "# Model Principles\n",
    "\n",
    "We will use the principles behind the Capital Asset Pricing Model (CAPM) to build a model.\n",
    "\n",
    "![Efficient Frontier](./img/Efficient-Frontier.jpg)"
   ]
  },
  {
   "cell_type": "markdown",
   "metadata": {},
   "source": [
    "# Model Principles (cont'd)\n",
    "\n",
    "The risk / reward trade-off is a fundamental part of finance.  When risk increases, investors expect higher returns.  In finance, risk and volatility are one and the same.\n",
    "\n",
    "We will build a model based on volatility related features to forecast SPY returns."
   ]
  },
  {
   "cell_type": "markdown",
   "metadata": {},
   "source": [
    "# Volatility\n",
    "\n",
    "Volatility is generally defined as the standard deviation of log returns where $ R = log(P_t / P_{t-1}) $.  Empirically, the properties of log(returns) and arithmetic returns are not materially different (Tsay, p. 21).\n",
    "\n",
    "- __realized volatility__ is the volatility observer for an instrument over a recent window of N periods:\n",
    "\n",
    "- __implied volatility__ is the volatility the market expects over a given time frame in the future as reflected by the underlying security's options. The most common ways to compute implied volatility are::\n",
    "\n",
    "  - __Black Scholes Model__ which is a mathematical model which values the option against the continuous hedging of a risk neutral portfolio.  \n",
    "  - __Numerical Models__ which simulate the path that an underlying stock will take in the future.\n",
    "\n"
   ]
  },
  {
   "cell_type": "markdown",
   "metadata": {},
   "source": [
    "# Realized Volatility\n",
    "\n",
    "Is the volatility observed over a recent window of N periods.\n",
    "\n",
    "$$ \\sigma = \\sqrt{ {\\sum_{t=1}^N (r_t - r_{\\mu})^2} \\over  N}$$\n",
    "\n",
    "Note that the implication of this equation is that annualized daily volatility would be:\n",
    "\n",
    "$$ \\sigma_{annual} =  \\sqrt{ 252 } * \\sigma_{daily}$$"
   ]
  },
  {
   "cell_type": "markdown",
   "metadata": {},
   "source": [
    "# VIX \n",
    "\n",
    "The CBOE volatility index is known as the VIX.  It is one of the most broadly used measures of volatility in the market. The VIX calculation weighs the implied volatility of front month options (next monthly expiration to expire) and second month options (second month of monthly options to expire) option implied volatilities.  The weights amount to a 30 day horizon of expiration."
   ]
  },
  {
   "cell_type": "markdown",
   "metadata": {},
   "source": [
    "# Python\n",
    "\n",
    "Python is a very popular language among data scientists.  Other popular tools/languages include: R, Julia, and Scala.  A community of open-source developers contribute to the Python ecosystem and make their code available in the form of **modules**.  These provide a tremendous variety of functionality: [Python Module list](https://docs.python.org/3/py-modindex.html).  This notebook will make use of the following modules:"
   ]
  },
  {
   "cell_type": "code",
   "execution_count": 1,
   "metadata": {},
   "outputs": [
    {
     "name": "stderr",
     "output_type": "stream",
     "text": [
      "2019-10-16 13:32:39,713 - MAIN - [matplotlib.backends] [DEBUG] : backend module://ipykernel.pylab.backend_inline version unknown\n"
     ]
    }
   ],
   "source": [
    "%matplotlib inline\n",
    "import logging\n",
    "logging.basicConfig(level=logging.DEBUG, format='%(asctime)s - MAIN - [%(name)s] [%(levelname)s] : %(message)s')\n",
    "\n",
    "import numpy as np\n",
    "import pandas as pd\n",
    "import pandas_datareader.data as web\n",
    "import sklearn\n",
    "from sklearn.model_selection import train_test_split\n",
    "import matplotlib.pylab as plt\n",
    "\n",
    "plt.style.use('ggplot')\n",
    "plt.rcParams['figure.figsize'] = 15,8"
   ]
  },
  {
   "cell_type": "code",
   "execution_count": 2,
   "metadata": {},
   "outputs": [],
   "source": [
    "plt.rcParams['figure.figsize'] = 15,8"
   ]
  },
  {
   "cell_type": "code",
   "execution_count": 3,
   "metadata": {},
   "outputs": [],
   "source": [
    "# custom modules\n",
    "import os,sys\n",
    "import datetime\n",
    "import copy\n",
    "import prettytable\n",
    "\n",
    "module_path = os.path.abspath(os.path.join('./modules/'))\n",
    "if module_path not in sys.path:\n",
    "    sys.path.append(module_path)\n",
    "import boxcox\n",
    "import testing\n",
    "import plumbing\n",
    "import util"
   ]
  },
  {
   "cell_type": "markdown",
   "metadata": {},
   "source": [
    "# Data\n",
    "\n",
    "![Exploratory Data Analysis](./img/2_data.png)"
   ]
  },
  {
   "cell_type": "markdown",
   "metadata": {},
   "source": [
    "# Load Data\n",
    "\n",
    "\n",
    "The Pandas web interface connects to datasources on the web to data.  In this case, we will connect to yahoo finance to fetch **SPY** and **VIX** price history.\n"
   ]
  },
  {
   "cell_type": "code",
   "execution_count": 4,
   "metadata": {},
   "outputs": [
    {
     "name": "stderr",
     "output_type": "stream",
     "text": [
      "2019-10-16 13:32:40,018 - MAIN - [urllib3.connectionpool] [DEBUG] : Starting new HTTPS connection (1): finance.yahoo.com:443\n",
      "2019-10-16 13:32:40,537 - MAIN - [urllib3.connectionpool] [DEBUG] : https://finance.yahoo.com:443 \"GET /quote/SPY/history?period1=728568000&period2=1569927599&interval=1d&frequency=1d&filter=history HTTP/1.1\" 200 None\n",
      "2019-10-16 13:32:40,975 - MAIN - [urllib3.connectionpool] [DEBUG] : Starting new HTTPS connection (1): finance.yahoo.com:443\n",
      "2019-10-16 13:32:41,395 - MAIN - [urllib3.connectionpool] [DEBUG] : https://finance.yahoo.com:443 \"GET /quote/%5EVIX/history?period1=728568000&period2=1569927599&interval=1d&frequency=1d&filter=history HTTP/1.1\" 200 None\n"
     ]
    }
   ],
   "source": [
    "start = datetime.datetime(1993, 2, 1)\n",
    "end = datetime.datetime(2019, 9, 30)\n",
    "spy = web.DataReader('SPY', 'yahoo', start, end)\n",
    "vix = web.DataReader('^VIX', 'yahoo', start, end)"
   ]
  },
  {
   "cell_type": "markdown",
   "metadata": {},
   "source": [
    "# Inspect The Data"
   ]
  },
  {
   "cell_type": "code",
   "execution_count": 5,
   "metadata": {},
   "outputs": [
    {
     "data": {
      "text/html": [
       "<div>\n",
       "<style scoped>\n",
       "    .dataframe tbody tr th:only-of-type {\n",
       "        vertical-align: middle;\n",
       "    }\n",
       "\n",
       "    .dataframe tbody tr th {\n",
       "        vertical-align: top;\n",
       "    }\n",
       "\n",
       "    .dataframe thead th {\n",
       "        text-align: right;\n",
       "    }\n",
       "</style>\n",
       "<table border=\"1\" class=\"dataframe\">\n",
       "  <thead>\n",
       "    <tr style=\"text-align: right;\">\n",
       "      <th></th>\n",
       "      <th>High</th>\n",
       "      <th>Low</th>\n",
       "      <th>Open</th>\n",
       "      <th>Close</th>\n",
       "      <th>Volume</th>\n",
       "      <th>Adj Close</th>\n",
       "    </tr>\n",
       "    <tr>\n",
       "      <th>Date</th>\n",
       "      <th></th>\n",
       "      <th></th>\n",
       "      <th></th>\n",
       "      <th></th>\n",
       "      <th></th>\n",
       "      <th></th>\n",
       "    </tr>\n",
       "  </thead>\n",
       "  <tbody>\n",
       "    <tr>\n",
       "      <th>1993-02-01</th>\n",
       "      <td>44.25000</td>\n",
       "      <td>43.96875</td>\n",
       "      <td>43.96875</td>\n",
       "      <td>44.25000</td>\n",
       "      <td>480500.0</td>\n",
       "      <td>26.773048</td>\n",
       "    </tr>\n",
       "    <tr>\n",
       "      <th>1993-02-02</th>\n",
       "      <td>44.37500</td>\n",
       "      <td>44.12500</td>\n",
       "      <td>44.21875</td>\n",
       "      <td>44.34375</td>\n",
       "      <td>201300.0</td>\n",
       "      <td>26.829773</td>\n",
       "    </tr>\n",
       "    <tr>\n",
       "      <th>1993-02-03</th>\n",
       "      <td>44.84375</td>\n",
       "      <td>44.37500</td>\n",
       "      <td>44.40625</td>\n",
       "      <td>44.81250</td>\n",
       "      <td>529400.0</td>\n",
       "      <td>27.113388</td>\n",
       "    </tr>\n",
       "    <tr>\n",
       "      <th>1993-02-04</th>\n",
       "      <td>45.09375</td>\n",
       "      <td>44.46875</td>\n",
       "      <td>44.96875</td>\n",
       "      <td>45.00000</td>\n",
       "      <td>531500.0</td>\n",
       "      <td>27.226835</td>\n",
       "    </tr>\n",
       "    <tr>\n",
       "      <th>1993-02-05</th>\n",
       "      <td>45.06250</td>\n",
       "      <td>44.71875</td>\n",
       "      <td>44.96875</td>\n",
       "      <td>44.96875</td>\n",
       "      <td>492100.0</td>\n",
       "      <td>27.207933</td>\n",
       "    </tr>\n",
       "  </tbody>\n",
       "</table>\n",
       "</div>"
      ],
      "text/plain": [
       "                High       Low      Open     Close    Volume  Adj Close\n",
       "Date                                                                   \n",
       "1993-02-01  44.25000  43.96875  43.96875  44.25000  480500.0  26.773048\n",
       "1993-02-02  44.37500  44.12500  44.21875  44.34375  201300.0  26.829773\n",
       "1993-02-03  44.84375  44.37500  44.40625  44.81250  529400.0  27.113388\n",
       "1993-02-04  45.09375  44.46875  44.96875  45.00000  531500.0  27.226835\n",
       "1993-02-05  45.06250  44.71875  44.96875  44.96875  492100.0  27.207933"
      ]
     },
     "execution_count": 5,
     "metadata": {},
     "output_type": "execute_result"
    }
   ],
   "source": [
    "spy.head(5)"
   ]
  },
  {
   "cell_type": "code",
   "execution_count": 6,
   "metadata": {},
   "outputs": [
    {
     "data": {
      "text/html": [
       "<div>\n",
       "<style scoped>\n",
       "    .dataframe tbody tr th:only-of-type {\n",
       "        vertical-align: middle;\n",
       "    }\n",
       "\n",
       "    .dataframe tbody tr th {\n",
       "        vertical-align: top;\n",
       "    }\n",
       "\n",
       "    .dataframe thead th {\n",
       "        text-align: right;\n",
       "    }\n",
       "</style>\n",
       "<table border=\"1\" class=\"dataframe\">\n",
       "  <thead>\n",
       "    <tr style=\"text-align: right;\">\n",
       "      <th></th>\n",
       "      <th>High</th>\n",
       "      <th>Low</th>\n",
       "      <th>Open</th>\n",
       "      <th>Close</th>\n",
       "      <th>Volume</th>\n",
       "      <th>Adj Close</th>\n",
       "    </tr>\n",
       "    <tr>\n",
       "      <th>Date</th>\n",
       "      <th></th>\n",
       "      <th></th>\n",
       "      <th></th>\n",
       "      <th></th>\n",
       "      <th></th>\n",
       "      <th></th>\n",
       "    </tr>\n",
       "  </thead>\n",
       "  <tbody>\n",
       "    <tr>\n",
       "      <th>1993-02-01</th>\n",
       "      <td>12.92</td>\n",
       "      <td>12.18</td>\n",
       "      <td>12.51</td>\n",
       "      <td>12.33</td>\n",
       "      <td>0</td>\n",
       "      <td>12.33</td>\n",
       "    </tr>\n",
       "    <tr>\n",
       "      <th>1993-02-02</th>\n",
       "      <td>12.89</td>\n",
       "      <td>12.22</td>\n",
       "      <td>12.47</td>\n",
       "      <td>12.25</td>\n",
       "      <td>0</td>\n",
       "      <td>12.25</td>\n",
       "    </tr>\n",
       "    <tr>\n",
       "      <th>1993-02-03</th>\n",
       "      <td>12.34</td>\n",
       "      <td>11.79</td>\n",
       "      <td>11.98</td>\n",
       "      <td>12.12</td>\n",
       "      <td>0</td>\n",
       "      <td>12.12</td>\n",
       "    </tr>\n",
       "    <tr>\n",
       "      <th>1993-02-04</th>\n",
       "      <td>12.84</td>\n",
       "      <td>11.69</td>\n",
       "      <td>11.86</td>\n",
       "      <td>12.29</td>\n",
       "      <td>0</td>\n",
       "      <td>12.29</td>\n",
       "    </tr>\n",
       "    <tr>\n",
       "      <th>1993-02-05</th>\n",
       "      <td>13.45</td>\n",
       "      <td>12.49</td>\n",
       "      <td>12.56</td>\n",
       "      <td>12.90</td>\n",
       "      <td>0</td>\n",
       "      <td>12.90</td>\n",
       "    </tr>\n",
       "  </tbody>\n",
       "</table>\n",
       "</div>"
      ],
      "text/plain": [
       "             High    Low   Open  Close  Volume  Adj Close\n",
       "Date                                                     \n",
       "1993-02-01  12.92  12.18  12.51  12.33       0      12.33\n",
       "1993-02-02  12.89  12.22  12.47  12.25       0      12.25\n",
       "1993-02-03  12.34  11.79  11.98  12.12       0      12.12\n",
       "1993-02-04  12.84  11.69  11.86  12.29       0      12.29\n",
       "1993-02-05  13.45  12.49  12.56  12.90       0      12.90"
      ]
     },
     "execution_count": 6,
     "metadata": {},
     "output_type": "execute_result"
    }
   ],
   "source": [
    "vix.head(5)"
   ]
  },
  {
   "cell_type": "markdown",
   "metadata": {},
   "source": [
    "# Add Returns\n",
    "\n",
    "\n",
    "### Why Returns?\n",
    "\n",
    "When working with financial data it is important to work with returns.  A 10% forecast accuracy on a stock price can still be a $\\$$ 10.00 error on a $\\$$ 100 stock price.  However, a 10% accuracy in forecasting returns is still usable.\n",
    "\n",
    "### Pandas Makes It Easy\n",
    "\n",
    "Pandas offers an easy way to add a returns column to each dataframe:"
   ]
  },
  {
   "cell_type": "code",
   "execution_count": 7,
   "metadata": {},
   "outputs": [],
   "source": [
    "spy['ret']= spy['Adj Close'].pct_change()\n",
    "vix['ret']= spy['Adj Close'].pct_change()"
   ]
  },
  {
   "cell_type": "markdown",
   "metadata": {},
   "source": [
    "# Add Realized Volatility\n",
    "\n",
    "To add the realized volatility, we will need to compute the rolling 21 day (this is the number of trading days / month) average return. The daily variance will be:\n",
    "\n",
    "$$ Var = \\sigma^2 =(r_t - r_{\\mu})^2$$\n",
    "\n",
    "The 21 day realized volatility will be:\n",
    "\n",
    "$$ \\sigma = 100 \\times \\sqrt{ {\\sum_{t=1}^N Var_t^2} \\over  N}$$\n",
    "\n",
    "where N=21"
   ]
  },
  {
   "cell_type": "code",
   "execution_count": 8,
   "metadata": {},
   "outputs": [],
   "source": [
    "spy['avg_ret'] = spy['ret'].rolling(21).mean()\n",
    "spy['var'] = (spy['ret'] - spy['avg_ret']) ** 2\n",
    "spy['real_vol'] = 100 * (spy['var'].rolling(21).mean() * 252) ** .5"
   ]
  },
  {
   "cell_type": "code",
   "execution_count": 9,
   "metadata": {},
   "outputs": [
    {
     "data": {
      "text/html": [
       "<div>\n",
       "<style scoped>\n",
       "    .dataframe tbody tr th:only-of-type {\n",
       "        vertical-align: middle;\n",
       "    }\n",
       "\n",
       "    .dataframe tbody tr th {\n",
       "        vertical-align: top;\n",
       "    }\n",
       "\n",
       "    .dataframe thead th {\n",
       "        text-align: right;\n",
       "    }\n",
       "</style>\n",
       "<table border=\"1\" class=\"dataframe\">\n",
       "  <thead>\n",
       "    <tr style=\"text-align: right;\">\n",
       "      <th></th>\n",
       "      <th>High</th>\n",
       "      <th>Low</th>\n",
       "      <th>Open</th>\n",
       "      <th>Close</th>\n",
       "      <th>Volume</th>\n",
       "      <th>Adj Close</th>\n",
       "      <th>ret</th>\n",
       "      <th>avg_ret</th>\n",
       "      <th>var</th>\n",
       "      <th>real_vol</th>\n",
       "    </tr>\n",
       "    <tr>\n",
       "      <th>Date</th>\n",
       "      <th></th>\n",
       "      <th></th>\n",
       "      <th></th>\n",
       "      <th></th>\n",
       "      <th></th>\n",
       "      <th></th>\n",
       "      <th></th>\n",
       "      <th></th>\n",
       "      <th></th>\n",
       "      <th></th>\n",
       "    </tr>\n",
       "  </thead>\n",
       "  <tbody>\n",
       "    <tr>\n",
       "      <th>2019-09-25</th>\n",
       "      <td>298.109985</td>\n",
       "      <td>294.329987</td>\n",
       "      <td>295.959991</td>\n",
       "      <td>297.619995</td>\n",
       "      <td>71854000.0</td>\n",
       "      <td>297.619995</td>\n",
       "      <td>0.005915</td>\n",
       "      <td>0.001802</td>\n",
       "      <td>0.000017</td>\n",
       "      <td>9.442413</td>\n",
       "    </tr>\n",
       "    <tr>\n",
       "      <th>2019-09-26</th>\n",
       "      <td>297.859985</td>\n",
       "      <td>295.450012</td>\n",
       "      <td>297.630005</td>\n",
       "      <td>297.000000</td>\n",
       "      <td>56179700.0</td>\n",
       "      <td>297.000000</td>\n",
       "      <td>-0.002083</td>\n",
       "      <td>0.001890</td>\n",
       "      <td>0.000016</td>\n",
       "      <td>9.524713</td>\n",
       "    </tr>\n",
       "    <tr>\n",
       "      <th>2019-09-27</th>\n",
       "      <td>297.950012</td>\n",
       "      <td>293.690002</td>\n",
       "      <td>297.829987</td>\n",
       "      <td>295.399994</td>\n",
       "      <td>84746600.0</td>\n",
       "      <td>295.399994</td>\n",
       "      <td>-0.005387</td>\n",
       "      <td>0.001298</td>\n",
       "      <td>0.000045</td>\n",
       "      <td>9.310748</td>\n",
       "    </tr>\n",
       "    <tr>\n",
       "      <th>2019-09-30</th>\n",
       "      <td>297.549988</td>\n",
       "      <td>295.920013</td>\n",
       "      <td>295.970001</td>\n",
       "      <td>296.769989</td>\n",
       "      <td>51662400.0</td>\n",
       "      <td>296.769989</td>\n",
       "      <td>0.004638</td>\n",
       "      <td>0.000910</td>\n",
       "      <td>0.000014</td>\n",
       "      <td>8.163983</td>\n",
       "    </tr>\n",
       "    <tr>\n",
       "      <th>2019-10-01</th>\n",
       "      <td>298.459991</td>\n",
       "      <td>293.000000</td>\n",
       "      <td>297.739990</td>\n",
       "      <td>293.239990</td>\n",
       "      <td>88242400.0</td>\n",
       "      <td>293.239990</td>\n",
       "      <td>-0.011895</td>\n",
       "      <td>0.000365</td>\n",
       "      <td>0.000150</td>\n",
       "      <td>9.202380</td>\n",
       "    </tr>\n",
       "  </tbody>\n",
       "</table>\n",
       "</div>"
      ],
      "text/plain": [
       "                  High         Low        Open       Close      Volume  \\\n",
       "Date                                                                     \n",
       "2019-09-25  298.109985  294.329987  295.959991  297.619995  71854000.0   \n",
       "2019-09-26  297.859985  295.450012  297.630005  297.000000  56179700.0   \n",
       "2019-09-27  297.950012  293.690002  297.829987  295.399994  84746600.0   \n",
       "2019-09-30  297.549988  295.920013  295.970001  296.769989  51662400.0   \n",
       "2019-10-01  298.459991  293.000000  297.739990  293.239990  88242400.0   \n",
       "\n",
       "             Adj Close       ret   avg_ret       var  real_vol  \n",
       "Date                                                            \n",
       "2019-09-25  297.619995  0.005915  0.001802  0.000017  9.442413  \n",
       "2019-09-26  297.000000 -0.002083  0.001890  0.000016  9.524713  \n",
       "2019-09-27  295.399994 -0.005387  0.001298  0.000045  9.310748  \n",
       "2019-09-30  296.769989  0.004638  0.000910  0.000014  8.163983  \n",
       "2019-10-01  293.239990 -0.011895  0.000365  0.000150  9.202380  "
      ]
     },
     "execution_count": 9,
     "metadata": {},
     "output_type": "execute_result"
    }
   ],
   "source": [
    "spy.tail(5)"
   ]
  },
  {
   "cell_type": "markdown",
   "metadata": {},
   "source": [
    "# Merge Dataframes\n",
    "\n",
    "The **SPY** dataframe and the **VIX** dataframe are separate from each other but we can merge so that each record lines up by date:"
   ]
  },
  {
   "cell_type": "code",
   "execution_count": 10,
   "metadata": {},
   "outputs": [
    {
     "data": {
      "text/html": [
       "<div>\n",
       "<style scoped>\n",
       "    .dataframe tbody tr th:only-of-type {\n",
       "        vertical-align: middle;\n",
       "    }\n",
       "\n",
       "    .dataframe tbody tr th {\n",
       "        vertical-align: top;\n",
       "    }\n",
       "\n",
       "    .dataframe thead th {\n",
       "        text-align: right;\n",
       "    }\n",
       "</style>\n",
       "<table border=\"1\" class=\"dataframe\">\n",
       "  <thead>\n",
       "    <tr style=\"text-align: right;\">\n",
       "      <th></th>\n",
       "      <th>High_x</th>\n",
       "      <th>Low_x</th>\n",
       "      <th>Open_x</th>\n",
       "      <th>Close_x</th>\n",
       "      <th>Volume_x</th>\n",
       "      <th>Adj Close_x</th>\n",
       "      <th>ret_x</th>\n",
       "      <th>avg_ret</th>\n",
       "      <th>var</th>\n",
       "      <th>real_vol</th>\n",
       "      <th>High_y</th>\n",
       "      <th>Low_y</th>\n",
       "      <th>Open_y</th>\n",
       "      <th>Close_y</th>\n",
       "      <th>Volume_y</th>\n",
       "      <th>Adj Close_y</th>\n",
       "      <th>ret_y</th>\n",
       "    </tr>\n",
       "    <tr>\n",
       "      <th>Date</th>\n",
       "      <th></th>\n",
       "      <th></th>\n",
       "      <th></th>\n",
       "      <th></th>\n",
       "      <th></th>\n",
       "      <th></th>\n",
       "      <th></th>\n",
       "      <th></th>\n",
       "      <th></th>\n",
       "      <th></th>\n",
       "      <th></th>\n",
       "      <th></th>\n",
       "      <th></th>\n",
       "      <th></th>\n",
       "      <th></th>\n",
       "      <th></th>\n",
       "      <th></th>\n",
       "    </tr>\n",
       "  </thead>\n",
       "  <tbody>\n",
       "    <tr>\n",
       "      <th>1993-02-01</th>\n",
       "      <td>44.25000</td>\n",
       "      <td>43.96875</td>\n",
       "      <td>43.96875</td>\n",
       "      <td>44.25000</td>\n",
       "      <td>480500.0</td>\n",
       "      <td>26.773048</td>\n",
       "      <td>NaN</td>\n",
       "      <td>NaN</td>\n",
       "      <td>NaN</td>\n",
       "      <td>NaN</td>\n",
       "      <td>12.92</td>\n",
       "      <td>12.18</td>\n",
       "      <td>12.51</td>\n",
       "      <td>12.33</td>\n",
       "      <td>0</td>\n",
       "      <td>12.33</td>\n",
       "      <td>NaN</td>\n",
       "    </tr>\n",
       "    <tr>\n",
       "      <th>1993-02-02</th>\n",
       "      <td>44.37500</td>\n",
       "      <td>44.12500</td>\n",
       "      <td>44.21875</td>\n",
       "      <td>44.34375</td>\n",
       "      <td>201300.0</td>\n",
       "      <td>26.829773</td>\n",
       "      <td>0.002119</td>\n",
       "      <td>NaN</td>\n",
       "      <td>NaN</td>\n",
       "      <td>NaN</td>\n",
       "      <td>12.89</td>\n",
       "      <td>12.22</td>\n",
       "      <td>12.47</td>\n",
       "      <td>12.25</td>\n",
       "      <td>0</td>\n",
       "      <td>12.25</td>\n",
       "      <td>0.002119</td>\n",
       "    </tr>\n",
       "    <tr>\n",
       "      <th>1993-02-03</th>\n",
       "      <td>44.84375</td>\n",
       "      <td>44.37500</td>\n",
       "      <td>44.40625</td>\n",
       "      <td>44.81250</td>\n",
       "      <td>529400.0</td>\n",
       "      <td>27.113388</td>\n",
       "      <td>0.010571</td>\n",
       "      <td>NaN</td>\n",
       "      <td>NaN</td>\n",
       "      <td>NaN</td>\n",
       "      <td>12.34</td>\n",
       "      <td>11.79</td>\n",
       "      <td>11.98</td>\n",
       "      <td>12.12</td>\n",
       "      <td>0</td>\n",
       "      <td>12.12</td>\n",
       "      <td>0.010571</td>\n",
       "    </tr>\n",
       "    <tr>\n",
       "      <th>1993-02-04</th>\n",
       "      <td>45.09375</td>\n",
       "      <td>44.46875</td>\n",
       "      <td>44.96875</td>\n",
       "      <td>45.00000</td>\n",
       "      <td>531500.0</td>\n",
       "      <td>27.226835</td>\n",
       "      <td>0.004184</td>\n",
       "      <td>NaN</td>\n",
       "      <td>NaN</td>\n",
       "      <td>NaN</td>\n",
       "      <td>12.84</td>\n",
       "      <td>11.69</td>\n",
       "      <td>11.86</td>\n",
       "      <td>12.29</td>\n",
       "      <td>0</td>\n",
       "      <td>12.29</td>\n",
       "      <td>0.004184</td>\n",
       "    </tr>\n",
       "    <tr>\n",
       "      <th>1993-02-05</th>\n",
       "      <td>45.06250</td>\n",
       "      <td>44.71875</td>\n",
       "      <td>44.96875</td>\n",
       "      <td>44.96875</td>\n",
       "      <td>492100.0</td>\n",
       "      <td>27.207933</td>\n",
       "      <td>-0.000694</td>\n",
       "      <td>NaN</td>\n",
       "      <td>NaN</td>\n",
       "      <td>NaN</td>\n",
       "      <td>13.45</td>\n",
       "      <td>12.49</td>\n",
       "      <td>12.56</td>\n",
       "      <td>12.90</td>\n",
       "      <td>0</td>\n",
       "      <td>12.90</td>\n",
       "      <td>-0.000694</td>\n",
       "    </tr>\n",
       "  </tbody>\n",
       "</table>\n",
       "</div>"
      ],
      "text/plain": [
       "              High_x     Low_x    Open_x   Close_x  Volume_x  Adj Close_x  \\\n",
       "Date                                                                        \n",
       "1993-02-01  44.25000  43.96875  43.96875  44.25000  480500.0    26.773048   \n",
       "1993-02-02  44.37500  44.12500  44.21875  44.34375  201300.0    26.829773   \n",
       "1993-02-03  44.84375  44.37500  44.40625  44.81250  529400.0    27.113388   \n",
       "1993-02-04  45.09375  44.46875  44.96875  45.00000  531500.0    27.226835   \n",
       "1993-02-05  45.06250  44.71875  44.96875  44.96875  492100.0    27.207933   \n",
       "\n",
       "               ret_x  avg_ret  var  real_vol  High_y  Low_y  Open_y  Close_y  \\\n",
       "Date                                                                           \n",
       "1993-02-01       NaN      NaN  NaN       NaN   12.92  12.18   12.51    12.33   \n",
       "1993-02-02  0.002119      NaN  NaN       NaN   12.89  12.22   12.47    12.25   \n",
       "1993-02-03  0.010571      NaN  NaN       NaN   12.34  11.79   11.98    12.12   \n",
       "1993-02-04  0.004184      NaN  NaN       NaN   12.84  11.69   11.86    12.29   \n",
       "1993-02-05 -0.000694      NaN  NaN       NaN   13.45  12.49   12.56    12.90   \n",
       "\n",
       "            Volume_y  Adj Close_y     ret_y  \n",
       "Date                                         \n",
       "1993-02-01         0        12.33       NaN  \n",
       "1993-02-02         0        12.25  0.002119  \n",
       "1993-02-03         0        12.12  0.010571  \n",
       "1993-02-04         0        12.29  0.004184  \n",
       "1993-02-05         0        12.90 -0.000694  "
      ]
     },
     "execution_count": 10,
     "metadata": {},
     "output_type": "execute_result"
    }
   ],
   "source": [
    "tmp = spy.merge(vix, left_on='Date', right_on='Date')\n",
    "tmp.head(5)"
   ]
  },
  {
   "cell_type": "markdown",
   "metadata": {},
   "source": [
    "### Relabel / Rearrange\n",
    "\n",
    "We'll drop un-necessary columns and label columns with more intuitive names:"
   ]
  },
  {
   "cell_type": "code",
   "execution_count": 11,
   "metadata": {
    "scrolled": true
   },
   "outputs": [
    {
     "data": {
      "text/html": [
       "<div>\n",
       "<style scoped>\n",
       "    .dataframe tbody tr th:only-of-type {\n",
       "        vertical-align: middle;\n",
       "    }\n",
       "\n",
       "    .dataframe tbody tr th {\n",
       "        vertical-align: top;\n",
       "    }\n",
       "\n",
       "    .dataframe thead th {\n",
       "        text-align: right;\n",
       "    }\n",
       "</style>\n",
       "<table border=\"1\" class=\"dataframe\">\n",
       "  <thead>\n",
       "    <tr style=\"text-align: right;\">\n",
       "      <th></th>\n",
       "      <th>spy</th>\n",
       "      <th>spy_ret</th>\n",
       "      <th>spy_ret_21</th>\n",
       "      <th>spy_var_21</th>\n",
       "      <th>real_vol</th>\n",
       "      <th>vix</th>\n",
       "      <th>vix_ret</th>\n",
       "    </tr>\n",
       "    <tr>\n",
       "      <th>Date</th>\n",
       "      <th></th>\n",
       "      <th></th>\n",
       "      <th></th>\n",
       "      <th></th>\n",
       "      <th></th>\n",
       "      <th></th>\n",
       "      <th></th>\n",
       "    </tr>\n",
       "  </thead>\n",
       "  <tbody>\n",
       "    <tr>\n",
       "      <th>2019-09-25</th>\n",
       "      <td>297.619995</td>\n",
       "      <td>0.005915</td>\n",
       "      <td>0.001802</td>\n",
       "      <td>0.000017</td>\n",
       "      <td>9.442413</td>\n",
       "      <td>15.960000</td>\n",
       "      <td>0.005915</td>\n",
       "    </tr>\n",
       "    <tr>\n",
       "      <th>2019-09-26</th>\n",
       "      <td>297.000000</td>\n",
       "      <td>-0.002083</td>\n",
       "      <td>0.001890</td>\n",
       "      <td>0.000016</td>\n",
       "      <td>9.524713</td>\n",
       "      <td>16.070000</td>\n",
       "      <td>-0.002083</td>\n",
       "    </tr>\n",
       "    <tr>\n",
       "      <th>2019-09-27</th>\n",
       "      <td>295.399994</td>\n",
       "      <td>-0.005387</td>\n",
       "      <td>0.001298</td>\n",
       "      <td>0.000045</td>\n",
       "      <td>9.310748</td>\n",
       "      <td>17.219999</td>\n",
       "      <td>-0.005387</td>\n",
       "    </tr>\n",
       "    <tr>\n",
       "      <th>2019-09-30</th>\n",
       "      <td>296.769989</td>\n",
       "      <td>0.004638</td>\n",
       "      <td>0.000910</td>\n",
       "      <td>0.000014</td>\n",
       "      <td>8.163983</td>\n",
       "      <td>16.240000</td>\n",
       "      <td>0.004638</td>\n",
       "    </tr>\n",
       "    <tr>\n",
       "      <th>2019-10-01</th>\n",
       "      <td>293.239990</td>\n",
       "      <td>-0.011895</td>\n",
       "      <td>0.000365</td>\n",
       "      <td>0.000150</td>\n",
       "      <td>9.202380</td>\n",
       "      <td>18.559999</td>\n",
       "      <td>-0.011895</td>\n",
       "    </tr>\n",
       "  </tbody>\n",
       "</table>\n",
       "</div>"
      ],
      "text/plain": [
       "                   spy   spy_ret  spy_ret_21  spy_var_21  real_vol        vix  \\\n",
       "Date                                                                            \n",
       "2019-09-25  297.619995  0.005915    0.001802    0.000017  9.442413  15.960000   \n",
       "2019-09-26  297.000000 -0.002083    0.001890    0.000016  9.524713  16.070000   \n",
       "2019-09-27  295.399994 -0.005387    0.001298    0.000045  9.310748  17.219999   \n",
       "2019-09-30  296.769989  0.004638    0.000910    0.000014  8.163983  16.240000   \n",
       "2019-10-01  293.239990 -0.011895    0.000365    0.000150  9.202380  18.559999   \n",
       "\n",
       "             vix_ret  \n",
       "Date                  \n",
       "2019-09-25  0.005915  \n",
       "2019-09-26 -0.002083  \n",
       "2019-09-27 -0.005387  \n",
       "2019-09-30  0.004638  \n",
       "2019-10-01 -0.011895  "
      ]
     },
     "execution_count": 11,
     "metadata": {},
     "output_type": "execute_result"
    }
   ],
   "source": [
    "df=tmp.drop(columns=['High_x', 'Low_x', 'Open_x', 'Close_x', 'Volume_x',\n",
    "                'High_y', 'Low_y', 'Open_y','Close_y', 'Volume_y',])\n",
    "df.columns = ['spy','spy_ret','spy_ret_21','spy_var_21','real_vol','vix','vix_ret']\n",
    "df.tail(5)"
   ]
  },
  {
   "cell_type": "markdown",
   "metadata": {},
   "source": [
    "### Data Is Organized\n",
    "\n",
    "Great!  The data is now organized."
   ]
  },
  {
   "cell_type": "markdown",
   "metadata": {},
   "source": [
    "# Analysis\n",
    "\n",
    "![Exploratory Data Analysis](./img/3_analysis.png)"
   ]
  },
  {
   "cell_type": "markdown",
   "metadata": {},
   "source": [
    "# Feature Engineering\n",
    "\n",
    "Feature engineering is the process of creating features to be used in the creation of a model.  These features should provide information that can be helpful in achieving the prediction.  Ideally, these features all have the same **mean** and **variance**.  Often, a mean of 0 and variance of 1 is targeted, but this is not absolutely necessary.\n",
    "\n",
    "Note that the **realized volatility** column created above was part of the feature engineering.  Here's a list of initial features that may produce interesting results:\n",
    "\n",
    "**Realized Volatility**: last 30 day (21 trading day) realized volatility  \n",
    "**VIX Value**: Expected 30 day volatility from the VIX index  \n",
    "**SPY 21 Day Lookback**: take the last 21 days of daily returns.  Create a vector with:  \n",
    "    (i) the most recent two values,  \n",
    "    (ii) the highest return,  \n",
    "    (iii) the lowest return, and  \n",
    "    (iv) the average return.  \n",
    "**VIX 21 Day Lookback**: take the last 21 days of VIX returns.  Create the same five feature vector."
   ]
  },
  {
   "cell_type": "markdown",
   "metadata": {},
   "source": [
    "### Feature Vector\n",
    "\n",
    "This will create the following feature vector:\n",
    "```Python\n",
    "vector = ['real_vol','vix', \n",
    "          'spy_minus_1','spy_minus_2','spy_max', 'spy_min', 'spy_mean',\n",
    "          'vix_minus_1','vix_minus_2','vix_max', 'vix_min', 'vix_mean']\n",
    "```"
   ]
  },
  {
   "cell_type": "markdown",
   "metadata": {},
   "source": [
    "# Organizing The Features\n",
    "\n",
    "There are multiple ways of organizing data for feature engineering.  In this example, each record will be organized by a class called ```Record```.  This class will receive a date, realized volatility, VIX, the SPY 21 day returns, and the VIX 21 day returns.\n",
    "\n",
    "The class will normalize the data, compute each feature and create a list of features called the feature vector.  The class will also contain the \"target\" which is the next day's return -- this is the objective for the ML algorithm to learn."
   ]
  },
  {
   "cell_type": "code",
   "execution_count": 12,
   "metadata": {},
   "outputs": [],
   "source": [
    "class Record(object):\n",
    "    def __init__(self, date, real_vol, vix, spy_buffer, vix_buffer):\n",
    "        self.date = date\n",
    "        self.real_vol = real_vol / 100.0\n",
    "        self.vix_value = vix / 100.0\n",
    "        self.spy = spy_buffer[-2:] + [np.max(spy_buffer), np.min(spy_buffer), np.mean(spy_buffer)]\n",
    "        self.vix = vix_buffer[-2:] + [np.max(vix_buffer), np.min(vix_buffer), np.mean(vix_buffer)]\n",
    "        self.target = None\n",
    "        self.fwd_vol = []\n",
    "        self.header = ['real_vol','vix', \n",
    "                       'spy_minus_1','spy_minus_2','spy_max', 'spy_min', 'spy_mean',\n",
    "                       'vix_minus_1','vix_minus_2','vix_max', 'vix_min', 'vix_mean']\n",
    "\n",
    "    def post_return(self, r):\n",
    "        self.target = r\n",
    "    \n",
    "    def post_fwd_vol(self, v):\n",
    "        self.fwd_vol = v\n",
    "    \n",
    "    def get(self):\n",
    "        r = [self.real_vol, self.vix_value] + self.spy + self.vix\n",
    "        assert len(r) == len(self.header),'header (%d): %s\\nrecord (%d): %s' % (len(self.header), str(self.header), len(r), str(r) )\n",
    "        return r\n",
    "    \n",
    "    def get_return(self):\n",
    "        return self.target\n",
    "    \n",
    "    def get_fwd_vol(self, threshold=20):\n",
    "        return int(len(list(filter(lambda v: v>threshold, self.fwd_vol))) > 0)"
   ]
  },
  {
   "cell_type": "code",
   "execution_count": 13,
   "metadata": {},
   "outputs": [
    {
     "name": "stderr",
     "output_type": "stream",
     "text": [
      "2019-10-16 13:32:41,799 - MAIN - [matplotlib.font_manager] [DEBUG] : findfont: Matching :family=sans-serif:style=normal:variant=normal:weight=normal:stretch=normal:size=10.0 to DejaVu Sans ('/opt/local/Library/Frameworks/Python.framework/Versions/2.7/lib/python2.7/site-packages/matplotlib/mpl-data/fonts/ttf/DejaVuSans.ttf') with score of 0.050000\n",
      "2019-10-16 13:32:41,814 - MAIN - [matplotlib.font_manager] [DEBUG] : findfont: Matching :family=sans-serif:style=normal:variant=normal:weight=normal:stretch=normal:size=12.0 to DejaVu Sans ('/opt/local/Library/Frameworks/Python.framework/Versions/2.7/lib/python2.7/site-packages/matplotlib/mpl-data/fonts/ttf/DejaVuSans.ttf') with score of 0.050000\n",
      "2019-10-16 13:32:41,838 - MAIN - [matplotlib.font_manager] [DEBUG] : findfont: Matching :family=sans-serif:style=normal:variant=normal:weight=normal:stretch=normal:size=14.399999999999999 to DejaVu Sans ('/opt/local/Library/Frameworks/Python.framework/Versions/2.7/lib/python2.7/site-packages/matplotlib/mpl-data/fonts/ttf/DejaVuSans.ttf') with score of 0.050000\n"
     ]
    },
    {
     "data": {
      "image/png": "[encoded data removed]",
      "text/plain": [
       "<Figure size 1080x576 with 1 Axes>"
      ]
     },
     "metadata": {},
     "output_type": "display_data"
    }
   ],
   "source": [
    "df['real_vol'].plot()\n",
    "df['vix'].plot()\n",
    "plt.legend()\n",
    "plt.title('Realized and Implied Volatility of S&P 500')\n",
    "plt.show()"
   ]
  },
  {
   "cell_type": "markdown",
   "metadata": {},
   "source": [
    "# Building The Dataset\n",
    "\n",
    "This loop will build the dataset by iterating through the Pandas dataframe:"
   ]
  },
  {
   "cell_type": "code",
   "execution_count": 14,
   "metadata": {},
   "outputs": [],
   "source": [
    "VOL_THRESHOLD = 20\n",
    "VOL_WINDOW = 10"
   ]
  },
  {
   "cell_type": "code",
   "execution_count": 15,
   "metadata": {},
   "outputs": [],
   "source": [
    "records = []\n",
    "spy_fifo = plumbing.FIFO(21)\n",
    "vix_fifo = plumbing.FIFO(21)\n",
    "\n",
    "lst = list(df.T.to_dict().items())[1:-VOL_WINDOW]\n",
    "\n",
    "for n,(d,x) in enumerate(lst):\n",
    "    spy_log = np.log(1 + x['spy_ret'])\n",
    "    spy_buffer = spy_fifo.update(spy_log) \n",
    "    \n",
    "    vix_log = np.log(1 + x['vix_ret'])\n",
    "    vix_buffer = vix_fifo.update(vix_log)\n",
    "    \n",
    "    if np.isfinite(x['real_vol']):\n",
    "        r.post_return(x['spy_ret'])\n",
    "        fwd_vol = list(map(lambda i: i[1]['real_vol'], lst[n:n+VOL_WINDOW]))\n",
    "        r.post_fwd_vol(fwd_vol)\n",
    "        records += [r]\n",
    "\n",
    "    r = Record(d, x['real_vol'], x['vix'], spy_buffer, vix_buffer)\n",
    "    last = x"
   ]
  },
  {
   "cell_type": "markdown",
   "metadata": {},
   "source": [
    "# Split In Two\n",
    "\n",
    "When building a machine learning model, you should always split data into:\n",
    "\n",
    "- a **training set**: used to develop your model, and  \n",
    "- a **validation set**: also called \"test set\" used to validate the stablity of your model\n",
    "\n",
    "This allows the ML algorithm to \"learn\" a model from the training set.  The performance of the model will then get validated on **unseen** validation data.\n",
    "\n",
    "There are multiple ways to split the data. A common approach is to split the data into two sets.  As such, the datasets are also split into X and y values.  The convention in ML is to have:\n",
    "\n",
    "$$ y = \\beta \\times X$$\n",
    "\n",
    "\n",
    "We'll be using a classification algorithm to determine if the overnight return will be positive -- so the y value (target) will be:\n",
    "\n",
    "0 -- if the realized volatility is less than our **VOL_THRESHOLD** within the next **VOL_WINDOW** days  \n",
    "1 -- if the realized volatility is greater than our **VOL_THRESHOLD** at any time within the next **VOL_WINDOW** days\n",
    "\n",
    "\n"
   ]
  },
  {
   "cell_type": "code",
   "execution_count": 16,
   "metadata": {},
   "outputs": [],
   "source": [
    "train, test  = train_test_split(records, shuffle=False, test_size=.5)\n",
    "\n",
    "X_train = np.array(list(map(lambda r: r.get(), train[1:])))\n",
    "y_train = np.array(list(map(lambda r: r.get_fwd_vol(VOL_THRESHOLD), train[1:])))\n",
    "\n",
    "X_test = np.array(list(map(lambda r: r.get(), test[1:])))\n",
    "y_test = np.array(list(map(lambda r: r.get_fwd_vol(VOL_THRESHOLD), test[1:])))"
   ]
  },
  {
   "cell_type": "code",
   "execution_count": 17,
   "metadata": {},
   "outputs": [
    {
     "data": {
      "text/plain": [
       "(936, 3331)"
      ]
     },
     "execution_count": 17,
     "metadata": {},
     "output_type": "execute_result"
    }
   ],
   "source": [
    "sum(y_train),len(y_train)"
   ]
  },
  {
   "cell_type": "markdown",
   "metadata": {},
   "source": [
    "# Build a Model\n",
    "\n",
    "![model](./img/4_model.png)"
   ]
  },
  {
   "cell_type": "markdown",
   "metadata": {},
   "source": [
    "# Classification Models\n",
    "\n",
    "Python's sklearn offers multiple classification models:\n",
    "\n",
    "```Python\n",
    "names = [\"Nearest Neighbors\", \"Linear SVM\", \"RBF SVM\", \"Gaussian Process\",\n",
    "         \"Decision Tree\", \"Random Forest\", \"Neural Net\", \"AdaBoost\",\n",
    "         \"Naive Bayes\", \"QDA\"]\n",
    "\n",
    "from sklearn.neural_network import MLPClassifier\n",
    "from sklearn.neighbors import KNeighborsClassifier\n",
    "from sklearn.svm import SVC\n",
    "from sklearn.gaussian_process import GaussianProcessClassifier\n",
    "from sklearn.gaussian_process.kernels import RBF\n",
    "from sklearn.tree import DecisionTreeClassifier\n",
    "from sklearn.ensemble import RandomForestClassifier, AdaBoostClassifier\n",
    "from sklearn.naive_bayes import GaussianNB\n",
    "from sklearn.discriminant_analysis import QuadraticDiscriminantAnalysis\n",
    "```"
   ]
  },
  {
   "cell_type": "markdown",
   "metadata": {},
   "source": [
    "# Classification\n",
    "\n",
    "Classification algorithms help predict if an outcome will be True or False.  A series of questions (**nodes**) lead to answers (**branches**) that ultimately lead to decisions (**leaves**).\n",
    "\n",
    "A simple decision tree might try to predict if today will be a good day:\n",
    "\n",
    "![simple treee](./img/simple_tree.png)"
   ]
  },
  {
   "cell_type": "markdown",
   "metadata": {},
   "source": [
    "# How It Works\n",
    "\n",
    "### Splitting\n",
    " Create nodes using available features.  \n",
    " Threshold the feature to maximize **Information Gain** (IG)  \n",
    " Add nodes up to the **maximum depth** allowed by the user  \n",
    "\n",
    "### Pruning\n",
    " Remove branches from the tree that don't add significant information\n",
    " "
   ]
  },
  {
   "cell_type": "markdown",
   "metadata": {},
   "source": [
    "### Information Gain\n",
    "\n",
    "The information gain measures the reduction in entropy in $Y$ from the new information $X$.\n",
    "\n",
    "$$IG(Y,X) = H_Y - H_{Y|X}$$\n",
    "\n",
    "where:\n",
    "\n",
    "$H_Y$  Entropy of $Y$  \n",
    "$H_{Y|X}$ Entropy of $Y$ given $X$"
   ]
  },
  {
   "cell_type": "markdown",
   "metadata": {},
   "source": [
    "### Entropy\n",
    "\n",
    "$$H = \\sum_{i=1}^N -p_i log_2(p_i)$$\n",
    "\n",
    "where:\n",
    "\n",
    "$p_i$ is the probability of observation $i$ being part of the $i$ class  \n",
    "\n",
    "Entropy is a value between 0 and 1 where:\n",
    "\n",
    " 0 --> is low  \n",
    " 1 --> is high  \n",
    "\n",
    "![entropy](./img/entropy.png)\n",
    "\n",
    "[Provost, Foster; Fawcett, Tom. Data Science for Business: What You Need to Know about Data Mining and Data-Analytic Thinking](https://towardsdatascience.com/entropy-how-decision-trees-make-decisions-2946b9c18c8)"
   ]
  },
  {
   "cell_type": "markdown",
   "metadata": {},
   "source": [
    "## Example -- Will the VIX $\\gt$ 20?\n",
    "\n",
    "Let's assume we are trying to predict if the implied volatility (or the VIX) will be higher than 20.  Let's use a single decision branch to figure this out by using the realized volatility as our decision branch.\n",
    "\n",
    "### Measuring Entropy\n",
    "\n",
    "Let's start by measuring the entropy of the VIX data at various thresholds of VIX values.  For this we'll sort the VIX values, calculate running probabilities of being above or below values as we iterate through the data."
   ]
  },
  {
   "cell_type": "code",
   "execution_count": 18,
   "metadata": {},
   "outputs": [
    {
     "data": {
      "text/plain": [
       "6716"
      ]
     },
     "execution_count": 18,
     "metadata": {},
     "output_type": "execute_result"
    }
   ],
   "source": [
    "VIX = sorted(df['vix'].tolist())\n",
    "N = len(VIX)\n",
    "N"
   ]
  },
  {
   "cell_type": "code",
   "execution_count": 19,
   "metadata": {},
   "outputs": [
    {
     "name": "stdout",
     "output_type": "stream",
     "text": [
      "Probability VIX<20: 0.6312\n",
      "Entropy: 0.9498\n",
      "Probability VIX>20: 0.3688\n"
     ]
    },
    {
     "name": "stderr",
     "output_type": "stream",
     "text": [
      "/opt/local/Library/Frameworks/Python.framework/Versions/3.7/lib/python3.7/site-packages/ipykernel_launcher.py:7: RuntimeWarning: divide by zero encountered in log2\n",
      "  import sys\n",
      "/opt/local/Library/Frameworks/Python.framework/Versions/3.7/lib/python3.7/site-packages/ipykernel_launcher.py:7: RuntimeWarning: invalid value encountered in double_scalars\n",
      "  import sys\n"
     ]
    }
   ],
   "source": [
    "P = []\n",
    "H = []\n",
    "V_20 = None\n",
    "for n,v in enumerate(VIX):\n",
    "    p = float(n) / float(N)\n",
    "    q = float(N-n) / float(N)\n",
    "    h = -p * np.log2(p) - q * np.log2(q)\n",
    "    if v > 20 and V_20 is None:\n",
    "        V_20 = (p,h)\n",
    "    P += [p]\n",
    "    H += [h]\n",
    "print('Probability VIX<20: %6.4f\\nEntropy: %6.4f' % V_20)\n",
    "print('Probability VIX>20: %6.4f' % (1- V_20[0]))"
   ]
  },
  {
   "cell_type": "code",
   "execution_count": 20,
   "metadata": {},
   "outputs": [
    {
     "data": {
      "image/png": "[encoded data removed]",
      "text/plain": [
       "<Figure size 1080x576 with 1 Axes>"
      ]
     },
     "metadata": {},
     "output_type": "display_data"
    }
   ],
   "source": [
    "plt.plot(P,H,label='Entropy')\n",
    "plt.title('Entropy of VIX vs. VIX threshold')\n",
    "plt.scatter(*V_20,color='k', label='VIX=20')\n",
    "plt.xlabel('p')\n",
    "plt.ylabel('Entropy (H)')\n",
    "plt.legend()\n",
    "plt.show()"
   ]
  },
  {
   "cell_type": "markdown",
   "metadata": {},
   "source": [
    "### Interpretation\n",
    "\n",
    "A VIX threshold of 20 results in an entropy of 0.94.\n",
    "\n",
    "### Using Realized Volatility\n",
    "\n",
    "Now let's look at how realized volatility can help improve this number."
   ]
  },
  {
   "cell_type": "code",
   "execution_count": 21,
   "metadata": {},
   "outputs": [],
   "source": [
    "lst = df[['real_vol','vix']][42:].values.tolist()\n",
    "lst = sorted(lst, key=lambda k: k[0])"
   ]
  },
  {
   "cell_type": "code",
   "execution_count": 22,
   "metadata": {},
   "outputs": [
    {
     "name": "stdout",
     "output_type": "stream",
     "text": [
      "Average Entropy: 0.4061\n"
     ]
    }
   ],
   "source": [
    "H = []\n",
    "n_gt_20 = 0\n",
    "R = []\n",
    "for n,(r,v) in enumerate(lst):\n",
    "    if v > 20:\n",
    "        n_gt_20 += 1\n",
    "    if n>0 and n_gt_20 > 0:\n",
    "        p = float(n_gt_20) / float(n)\n",
    "        q = 1 - p\n",
    "        h = -p * np.log2(p) - q * np.log2(q)\n",
    "        R += [r]\n",
    "        H += [h]\n",
    "print('Average Entropy: %6.4f' % np.mean(H))"
   ]
  },
  {
   "cell_type": "markdown",
   "metadata": {},
   "source": [
    "### Interpretation\n",
    "\n",
    "Good news!  The entropy of VIX $\\gt$ 20 | Realized Volatility ($H_{VIX|Real Vol}$) is 0.4061.  This is substantially less than the entropy of VIX $\\gt$ 20 = 0.9498.\n",
    "\n",
    "We can compute the Information Gain as:\n",
    "\n",
    "$$IG(VIX \\gt 20, Real Vol) = H_{VIX \\gt 20} - H_{VIX|Real Vol}$$"
   ]
  },
  {
   "cell_type": "code",
   "execution_count": 23,
   "metadata": {},
   "outputs": [
    {
     "name": "stdout",
     "output_type": "stream",
     "text": [
      "Information Gain : 0.5436\n"
     ]
    }
   ],
   "source": [
    "ig = V_20[1] - np.mean(H)\n",
    "print('Information Gain : %6.4f' % ig)"
   ]
  },
  {
   "cell_type": "markdown",
   "metadata": {},
   "source": [
    "## Model Assessment\n",
    "\n",
    "To assess model quality Data Scientists and Business people use different metrics.  We'll use a mix of metrics:\n",
    "\n",
    "\n",
    "### Confusion Matrix\n",
    "\n",
    "This looks at the combinations of prediction vs actual to see how often a model predicts correctly given the True observation.  Some related metrics include:\n",
    "\n",
    "#### Recall / Hit Rate (True Positive Rate)\n",
    "\n",
    "$$TPR = \\frac{TP}{TP + FN}$$\n",
    "\n",
    "#### Precision (Positive Predicted Value)\n",
    "\n",
    "$$PPV = \\frac{TP}{TP+FP}$$\n",
    "\n",
    "#### Miss Rate (Negative Predicted Value)\n",
    "\n",
    "$$NPV = \\frac{FN}{FN+TP}$$\n",
    "\n",
    "#### Accuracy\n",
    "\n",
    "$$ACC = \\frac{TP + TN}{P + N}$$"
   ]
  },
  {
   "cell_type": "markdown",
   "metadata": {},
   "source": [
    "### ROC Curve\n",
    "\n",
    "This plot along with the AUC provides an idea of the \"quality\" of the model and it's ability to classify correctly.  The closer the AUC to 1.0, the better the model.\n",
    "\n",
    "### Business Metrics\n",
    "\n",
    "In our case, we will use the performance (p&l) and volatility of a trading strategy that trades our model vs. the pnl of a buy and hold strategy."
   ]
  },
  {
   "cell_type": "markdown",
   "metadata": {},
   "source": [
    "# Gradient Boosting Classifier\n",
    "\n",
    "This classifier has become quite popular over recent years since it offers good performance both in and out of sample."
   ]
  },
  {
   "cell_type": "code",
   "execution_count": 24,
   "metadata": {},
   "outputs": [
    {
     "name": "stderr",
     "output_type": "stream",
     "text": [
      "/opt/local/Library/Frameworks/Python.framework/Versions/3.7/lib/python3.7/site-packages/sklearn/ensemble/weight_boosting.py:29: DeprecationWarning: numpy.core.umath_tests is an internal NumPy module and should not be imported. It will be removed in a future NumPy release.\n",
      "  from numpy.core.umath_tests import inner1d\n"
     ]
    }
   ],
   "source": [
    "from sklearn.ensemble import GradientBoostingClassifier\n",
    "params = {'subsample':.5, 'n_estimators':10,\n",
    "         'max_depth':2, 'min_samples_split': 5, \n",
    "          'max_features':2}\n",
    "clf = GradientBoostingClassifier(**params)\n",
    "f = clf.fit(X_train, y_train)"
   ]
  },
  {
   "cell_type": "markdown",
   "metadata": {},
   "source": [
    "### In Sample Performance"
   ]
  },
  {
   "cell_type": "code",
   "execution_count": 25,
   "metadata": {
    "scrolled": false
   },
   "outputs": [
    {
     "name": "stdout",
     "output_type": "stream",
     "text": [
      "Confusion Matrix\n",
      "Raw\n",
      "[[2369   26]\n",
      " [ 257  679]]\n",
      "Normalized\n",
      "[[0.71119784 0.00780546]\n",
      " [0.07715401 0.20384269]]\n",
      "Accuracy: 0.9150405283698589\n"
     ]
    },
    {
     "data": {
      "image/png": "[encoded data removed]",
      "text/plain": [
       "<Figure size 1080x576 with 2 Axes>"
      ]
     },
     "metadata": {},
     "output_type": "display_data"
    }
   ],
   "source": [
    "Y_hat = clf.predict(X_train)\n",
    "r = util.cf_matrix(y_train, Y_hat)\n",
    "acc = (r[0][0] + r[1][1]) / np.sum(r)\n",
    "print('Accuracy:', acc)"
   ]
  },
  {
   "cell_type": "markdown",
   "metadata": {},
   "source": [
    "### Out of Sample Performance"
   ]
  },
  {
   "cell_type": "code",
   "execution_count": 26,
   "metadata": {},
   "outputs": [
    {
     "name": "stdout",
     "output_type": "stream",
     "text": [
      "Confusion Matrix\n",
      "Raw\n",
      "[[2448   46]\n",
      " [ 210  628]]\n",
      "Normalized\n",
      "[[0.73469388 0.01380552]\n",
      " [0.06302521 0.18847539]]\n",
      "Accuracy: 0.9231692677070829\n"
     ]
    },
    {
     "data": {
      "image/png": "[encoded data removed]",
      "text/plain": [
       "<Figure size 1080x576 with 2 Axes>"
      ]
     },
     "metadata": {},
     "output_type": "display_data"
    }
   ],
   "source": [
    "Y_hat = clf.predict(X_test)\n",
    "r = util.cf_matrix(y_test, Y_hat)\n",
    "acc = (r[0][0] + r[1][1]) / np.sum(r)\n",
    "print('Accuracy:', acc)"
   ]
  },
  {
   "cell_type": "code",
   "execution_count": 27,
   "metadata": {},
   "outputs": [
    {
     "data": {
      "image/png": "[encoded data removed]",
      "text/plain": [
       "<Figure size 1080x576 with 1 Axes>"
      ]
     },
     "metadata": {},
     "output_type": "display_data"
    }
   ],
   "source": [
    "util.plot_auc(clf, X_train, y_train, X_test,y_test)"
   ]
  },
  {
   "cell_type": "markdown",
   "metadata": {},
   "source": [
    "### Business Metrics\n",
    "\n",
    "Let's look at the P&L performance."
   ]
  },
  {
   "cell_type": "code",
   "execution_count": 28,
   "metadata": {},
   "outputs": [
    {
     "name": "stdout",
     "output_type": "stream",
     "text": [
      "--------------------\n",
      "Strategy (in sample)\n",
      "--------------------\n",
      "+--------+------------------------+\n",
      "| metric |         value          |\n",
      "+--------+------------------------+\n",
      "|  mean  | 0.00013699547994712157 |\n",
      "| st_dev |  0.007607325947199496  |\n",
      "| Sharpe |  0.28587388514366335   |\n",
      "+--------+------------------------+\n",
      "------------------------\n",
      "Buy And Hold (in sample)\n",
      "------------------------\n",
      "+--------+-----------------------+\n",
      "| metric |         value         |\n",
      "+--------+-----------------------+\n",
      "|  mean  | 0.0004310038909218351 |\n",
      "| st_dev |  0.010888437632217628 |\n",
      "| Sharpe |   0.6283706522446985  |\n",
      "+--------+-----------------------+\n",
      "------------------------\n",
      "Strategy (out of sample)\n",
      "------------------------\n",
      "+--------+----------------------+\n",
      "| metric |        value         |\n",
      "+--------+----------------------+\n",
      "|  mean  | 0.000286592244152203 |\n",
      "| st_dev | 0.007185436186249286 |\n",
      "| Sharpe |  0.6331572247410909  |\n",
      "+--------+----------------------+\n",
      "----------------------------\n",
      "Buy And Hold (out of sample)\n",
      "----------------------------\n",
      "+--------+------------------------+\n",
      "| metric |         value          |\n",
      "+--------+------------------------+\n",
      "|  mean  | 0.00041603085210527237 |\n",
      "| st_dev |  0.01205932124447176   |\n",
      "| Sharpe |   0.5476498138261803   |\n",
      "+--------+------------------------+\n"
     ]
    },
    {
     "data": {
      "image/png": "[encoded data removed]",
      "text/plain": [
       "<Figure size 1080x576 with 1 Axes>"
      ]
     },
     "metadata": {},
     "output_type": "display_data"
    }
   ],
   "source": [
    "pnl = util.get_pnl_plot(clf, train[1:], test[1:])"
   ]
  },
  {
   "cell_type": "markdown",
   "metadata": {},
   "source": [
    "### Explainability\n",
    "\n",
    "Machine Learning models are often critized for their lack of explainability.  The decision trees are complex and difficult to interpret.  It is fairly straightforward to examine."
   ]
  },
  {
   "cell_type": "code",
   "execution_count": 29,
   "metadata": {},
   "outputs": [
    {
     "data": {
      "text/plain": [
       "[('real_vol', 0.3363665415246601),\n",
       " ('vix_min', 0.20865913272264075),\n",
       " ('spy_max', 0.13757003288684697),\n",
       " ('spy_min', 0.10037969818273185),\n",
       " ('vix_max', 0.08245448526377067),\n",
       " ('vix', 0.07367025120254504),\n",
       " ('spy_mean', 0.04095248529872768),\n",
       " ('spy_minus_1', 0.01567891254665095),\n",
       " ('vix_mean', 0.004268460371425946),\n",
       " ('spy_minus_2', 0.0),\n",
       " ('vix_minus_1', 0.0),\n",
       " ('vix_minus_2', 0.0)]"
      ]
     },
     "execution_count": 29,
     "metadata": {},
     "output_type": "execute_result"
    }
   ],
   "source": [
    "r = records[0]\n",
    "v = sorted(list(zip(r.header,f.feature_importances_)), key=lambda k:k[1],reverse=True)\n",
    "v"
   ]
  },
  {
   "cell_type": "markdown",
   "metadata": {},
   "source": [
    "#### Nodes\n",
    "\n",
    "Each node in the tree can be displayed, but the visualization is quite difficult.\n",
    "\n",
    "[sample visualization](https://arogozhnikov.github.io/2016/06/24/gradient_boosting_explained.html)"
   ]
  },
  {
   "cell_type": "code",
   "execution_count": 30,
   "metadata": {},
   "outputs": [
    {
     "data": {
      "text/plain": [
       "10"
      ]
     },
     "execution_count": 30,
     "metadata": {},
     "output_type": "execute_result"
    }
   ],
   "source": [
    "len(clf.estimators_)"
   ]
  },
  {
   "cell_type": "code",
   "execution_count": 31,
   "metadata": {
    "scrolled": true
   },
   "outputs": [
    {
     "data": {
      "text/plain": [
       "array([[DecisionTreeRegressor(criterion='friedman_mse', max_depth=2, max_features=2,\n",
       "           max_leaf_nodes=None, min_impurity_decrease=0.0,\n",
       "           min_impurity_split=None, min_samples_leaf=1,\n",
       "           min_samples_split=5, min_weight_fraction_leaf=0.0,\n",
       "           presort='auto',\n",
       "           random_state=<mtrand.RandomState object at 0x10d358b90>,\n",
       "           splitter='best')],\n",
       "       [DecisionTreeRegressor(criterion='friedman_mse', max_depth=2, max_features=2,\n",
       "           max_leaf_nodes=None, min_impurity_decrease=0.0,\n",
       "           min_impurity_split=None, min_samples_leaf=1,\n",
       "           min_samples_split=5, min_weight_fraction_leaf=0.0,\n",
       "           presort='auto',\n",
       "           random_state=<mtrand.RandomState object at 0x10d358b90>,\n",
       "           splitter='best')],\n",
       "       [DecisionTreeRegressor(criterion='friedman_mse', max_depth=2, max_features=2,\n",
       "           max_leaf_nodes=None, min_impurity_decrease=0.0,\n",
       "           min_impurity_split=None, min_samples_leaf=1,\n",
       "           min_samples_split=5, min_weight_fraction_leaf=0.0,\n",
       "           presort='auto',\n",
       "           random_state=<mtrand.RandomState object at 0x10d358b90>,\n",
       "           splitter='best')],\n",
       "       [DecisionTreeRegressor(criterion='friedman_mse', max_depth=2, max_features=2,\n",
       "           max_leaf_nodes=None, min_impurity_decrease=0.0,\n",
       "           min_impurity_split=None, min_samples_leaf=1,\n",
       "           min_samples_split=5, min_weight_fraction_leaf=0.0,\n",
       "           presort='auto',\n",
       "           random_state=<mtrand.RandomState object at 0x10d358b90>,\n",
       "           splitter='best')],\n",
       "       [DecisionTreeRegressor(criterion='friedman_mse', max_depth=2, max_features=2,\n",
       "           max_leaf_nodes=None, min_impurity_decrease=0.0,\n",
       "           min_impurity_split=None, min_samples_leaf=1,\n",
       "           min_samples_split=5, min_weight_fraction_leaf=0.0,\n",
       "           presort='auto',\n",
       "           random_state=<mtrand.RandomState object at 0x10d358b90>,\n",
       "           splitter='best')],\n",
       "       [DecisionTreeRegressor(criterion='friedman_mse', max_depth=2, max_features=2,\n",
       "           max_leaf_nodes=None, min_impurity_decrease=0.0,\n",
       "           min_impurity_split=None, min_samples_leaf=1,\n",
       "           min_samples_split=5, min_weight_fraction_leaf=0.0,\n",
       "           presort='auto',\n",
       "           random_state=<mtrand.RandomState object at 0x10d358b90>,\n",
       "           splitter='best')],\n",
       "       [DecisionTreeRegressor(criterion='friedman_mse', max_depth=2, max_features=2,\n",
       "           max_leaf_nodes=None, min_impurity_decrease=0.0,\n",
       "           min_impurity_split=None, min_samples_leaf=1,\n",
       "           min_samples_split=5, min_weight_fraction_leaf=0.0,\n",
       "           presort='auto',\n",
       "           random_state=<mtrand.RandomState object at 0x10d358b90>,\n",
       "           splitter='best')],\n",
       "       [DecisionTreeRegressor(criterion='friedman_mse', max_depth=2, max_features=2,\n",
       "           max_leaf_nodes=None, min_impurity_decrease=0.0,\n",
       "           min_impurity_split=None, min_samples_leaf=1,\n",
       "           min_samples_split=5, min_weight_fraction_leaf=0.0,\n",
       "           presort='auto',\n",
       "           random_state=<mtrand.RandomState object at 0x10d358b90>,\n",
       "           splitter='best')],\n",
       "       [DecisionTreeRegressor(criterion='friedman_mse', max_depth=2, max_features=2,\n",
       "           max_leaf_nodes=None, min_impurity_decrease=0.0,\n",
       "           min_impurity_split=None, min_samples_leaf=1,\n",
       "           min_samples_split=5, min_weight_fraction_leaf=0.0,\n",
       "           presort='auto',\n",
       "           random_state=<mtrand.RandomState object at 0x10d358b90>,\n",
       "           splitter='best')],\n",
       "       [DecisionTreeRegressor(criterion='friedman_mse', max_depth=2, max_features=2,\n",
       "           max_leaf_nodes=None, min_impurity_decrease=0.0,\n",
       "           min_impurity_split=None, min_samples_leaf=1,\n",
       "           min_samples_split=5, min_weight_fraction_leaf=0.0,\n",
       "           presort='auto',\n",
       "           random_state=<mtrand.RandomState object at 0x10d358b90>,\n",
       "           splitter='best')]], dtype=object)"
      ]
     },
     "execution_count": 31,
     "metadata": {},
     "output_type": "execute_result"
    }
   ],
   "source": [
    "clf.estimators_"
   ]
  },
  {
   "cell_type": "markdown",
   "metadata": {},
   "source": [
    "# Conclusion\n",
    "\n",
    "![model](./img/5_conclusion.png)"
   ]
  },
  {
   "cell_type": "markdown",
   "metadata": {},
   "source": [
    "### Data Science Metrics\n",
    "\n",
    "The AUC is very high at 0.97 and both the in-sample and out-of-sample accuracy are high (and stable) at ~92%.\n",
    "\n",
    "### Business Metrics\n",
    "\n",
    "The model seems to predict volatility very accurately and manages to achieve much better \n",
    "\n",
    "\n"
   ]
  },
  {
   "cell_type": "code",
   "execution_count": 33,
   "metadata": {},
   "outputs": [
    {
     "name": "stdout",
     "output_type": "stream",
     "text": [
      "\n",
      "ANNUALIZED RETURNS\n",
      "\n",
      "+----------------+--------+--------+\n",
      "|    strategy    |  mean  | st_dev |\n",
      "+----------------+--------+--------+\n",
      "| Strategy (in)  | 0.0351 | 0.1208 |\n",
      "|    SPX (in)    | 0.1147 | 0.1728 |\n",
      "| Strategy (Out) | 0.0749 | 0.1141 |\n",
      "|   SPX (out)    | 0.1105 | 0.1914 |\n",
      "+----------------+--------+--------+\n"
     ]
    }
   ],
   "source": [
    "(N, spx, pnl) = util.get_pnl_data(clf, train[1:])\n",
    "result = {'Strategy (in)': util.get_metrics(pnl, 'strategy (in)', False),\n",
    "           'SPX (in)': util.get_metrics(spx, 'SPX (in)', False),\n",
    "          }\n",
    "(N, spx, pnl) = util.get_pnl_data(clf, test[1:])\n",
    "result['Strategy (Out)'] = util.get_metrics(pnl, 'Strategy (Out)', False)\n",
    "result['SPX (out)'] = util.get_metrics(spx, 'SPX (out)', False)\n",
    "\n",
    "\n",
    "print('\\nANNUALIZED RETURNS\\n')\n",
    "\n",
    "metrics = ['mean','st_dev']\n",
    "pt = prettytable.PrettyTable(['strategy'] + metrics)\n",
    "for (label, mm) in result.items():\n",
    "    tail = [ np.exp(mm['mean'] * 252) - 1.0, mm['st_dev'] * 252 **.5 ]\n",
    "    r = [label] + list(map(lambda m: '%6.4f' % m, tail)) \n",
    "\n",
    "    pt.add_row(r)\n",
    "print(pt)"
   ]
  },
  {
   "cell_type": "markdown",
   "metadata": {},
   "source": [
    "### Conclusion\n",
    "\n",
    "The model achieves its goal of predicting volatility within the ```VOL_WINDOW```.  The annual returns performance of the strategy is not as good as the buy and hold SPY strategy, but the volatility is ~30% less. "
   ]
  },
  {
   "cell_type": "markdown",
   "metadata": {},
   "source": [
    "# Questions Managers Should be Asking\n",
    "\n",
    "What are your data sources?  How did you prepare the data?\n",
    "\n",
    "What features are you using?  Which ones are most useful?\n",
    "\n",
    "What is your in-sample / out-of-sample split?\n",
    " - 50/50 is good\n",
    " - rolling window may be good\n",
    " - did you burn your out of sample data (i.e. how often did you reject your model after looking at the out of sample performance)?\n",
    "\n",
    "What type of model did you run?\n",
    " - Regression?\n",
    " - Classification?\n",
    " - Neural Net?\n",
    " - Unsupervised learning?\n",
    "\n",
    "What is the AUC of the model?  \n",
    "How stable is the confusion matrix between in and out of sample?  \n",
    "How closely related are the business metrics to the data science metrics?\n",
    "Boil it down to business metrics?\n",
    " - ROI\n",
    " - Confidence interval? / Risk?"
   ]
  },
  {
   "cell_type": "markdown",
   "metadata": {},
   "source": [
    "# Further Reading\n",
    "\n",
    "[Gradient Boosting Classifier](https://scikit-learn.org/stable/modules/generated/sklearn.ensemble.GradientBoostingClassifier.html)\n",
    "\n",
    "[Nice Explanation](https://stackabuse.com/gradient-boosting-classifiers-in-python-with-scikit-learn/)\n"
   ]
  },
  {
   "cell_type": "markdown",
   "metadata": {},
   "source": [
    "$$IQ = e^{.2 \\Delta T}$$"
   ]
  },
  {
   "cell_type": "code",
   "execution_count": null,
   "metadata": {},
   "outputs": [],
   "source": []
  }
 ],
 "metadata": {
  "kernelspec": {
   "display_name": "Python 3",
   "language": "python",
   "name": "python3"
  },
  "language_info": {
   "codemirror_mode": {
    "name": "ipython",
    "version": 3
   },
   "file_extension": ".py",
   "mimetype": "text/x-python",
   "name": "python",
   "nbconvert_exporter": "python",
   "pygments_lexer": "ipython3",
   "version": "3.7.4"
  }
 },
 "nbformat": 4,
 "nbformat_minor": 2
}
